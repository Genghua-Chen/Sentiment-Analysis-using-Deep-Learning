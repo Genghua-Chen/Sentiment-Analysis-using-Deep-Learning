{
 "cells": [
  {
   "cell_type": "code",
   "execution_count": 24,
   "metadata": {},
   "outputs": [],
   "source": [
    "import numpy as np\n",
    "import matplotlib.pyplot as plt\n",
    "import tensorflow as tf\n",
    "\n",
    "\n",
    "# from keras.layers import Dense, Dropout, Flatten\n",
    "# from keras.layers import Conv2D\n",
    "# from tensorflow.keras.optimizers import Adam\n",
    "# from keras.layers import MaxPooling2D\n",
    "from keras.preprocessing.image import ImageDataGenerator\n"
   ]
  },
  {
   "cell_type": "code",
   "execution_count": 18,
   "metadata": {},
   "outputs": [
    {
     "name": "stdout",
     "output_type": "stream",
     "text": [
      "Found 28709 images belonging to 7 classes.\n",
      "Found 7178 images belonging to 7 classes.\n"
     ]
    }
   ],
   "source": [
    "train_dir = 'data/train'\n",
    "val_dir = 'data/test'\n",
    "train_datagen = ImageDataGenerator(rescale=1./255)\n",
    "val_datagen = ImageDataGenerator(rescale=1./255)\n",
    "\n",
    "train_generator = train_datagen.flow_from_directory(\n",
    "        train_dir,\n",
    "        target_size=(48,48),\n",
    "        batch_size=64,\n",
    "        color_mode=\"grayscale\",\n",
    "        class_mode='categorical')\n",
    "\n",
    "validation_generator = val_datagen.flow_from_directory(\n",
    "        val_dir,\n",
    "        target_size=(48,48),\n",
    "        batch_size=64,\n",
    "        color_mode=\"grayscale\",\n",
    "        class_mode='categorical')"
   ]
  },
  {
   "cell_type": "code",
   "execution_count": 21,
   "metadata": {},
   "outputs": [],
   "source": [
    "def create_model():\n",
    "\n",
    "\n",
    "  model = tf.keras.models.Sequential([ \n",
    "    tf.keras.layers.Conv2D(16, (3, 3), activation='relu', input_shape=(48, 48, 1)),\n",
    "    tf.keras.layers.MaxPooling2D(2, 2),\n",
    "    tf.keras.layers.Conv2D(32, (3, 3), activation='relu'),\n",
    "    tf.keras.layers.MaxPooling2D(2, 2),\n",
    "    tf.keras.layers.Conv2D(64, (3, 3), activation='relu'),\n",
    "    tf.keras.layers.MaxPooling2D(2, 2),\n",
    "    tf.keras.layers.Flatten(),\n",
    "    tf.keras.layers.Dense(1024, activation='relu'),\n",
    "    tf.keras.layers.Dense(7, activation='sigmoid')\n",
    "  ])\n",
    "\n",
    "  \n",
    "  model.compile(optimizer='adam',\n",
    "                loss='binary_crossentropy',\n",
    "                metrics=['accuracy']\n",
    "                ) \n",
    "    \n",
    "  ### END CODE HERE\n",
    "\n",
    "  return model\n"
   ]
  },
  {
   "cell_type": "code",
   "execution_count": 22,
   "metadata": {},
   "outputs": [
    {
     "name": "stdout",
     "output_type": "stream",
     "text": [
      "Epoch 1/15\n",
      "449/449 [==============================] - 23s 49ms/step - loss: 0.3664 - accuracy: 0.3354 - val_loss: 0.3345 - val_accuracy: 0.4139\n",
      "Epoch 2/15\n",
      "449/449 [==============================] - 22s 50ms/step - loss: 0.3213 - accuracy: 0.4445 - val_loss: 0.3084 - val_accuracy: 0.4622\n",
      "Epoch 3/15\n",
      "449/449 [==============================] - 23s 52ms/step - loss: 0.2972 - accuracy: 0.4995 - val_loss: 0.2924 - val_accuracy: 0.5096\n",
      "Epoch 4/15\n",
      "449/449 [==============================] - 22s 49ms/step - loss: 0.2807 - accuracy: 0.5360 - val_loss: 0.2885 - val_accuracy: 0.5095\n",
      "Epoch 5/15\n",
      "449/449 [==============================] - 22s 50ms/step - loss: 0.2667 - accuracy: 0.5654 - val_loss: 0.2780 - val_accuracy: 0.5319\n",
      "Epoch 6/15\n",
      "449/449 [==============================] - 23s 51ms/step - loss: 0.2535 - accuracy: 0.5918 - val_loss: 0.2758 - val_accuracy: 0.5428\n",
      "Epoch 7/15\n",
      "449/449 [==============================] - 23s 52ms/step - loss: 0.2391 - accuracy: 0.6228 - val_loss: 0.2754 - val_accuracy: 0.5458\n",
      "Epoch 8/15\n",
      "449/449 [==============================] - 23s 52ms/step - loss: 0.2232 - accuracy: 0.6567 - val_loss: 0.2790 - val_accuracy: 0.5557\n",
      "Epoch 9/15\n",
      "449/449 [==============================] - 24s 52ms/step - loss: 0.2056 - accuracy: 0.6939 - val_loss: 0.2836 - val_accuracy: 0.5588\n",
      "Epoch 10/15\n",
      "449/449 [==============================] - 25s 55ms/step - loss: 0.1858 - accuracy: 0.7343 - val_loss: 0.2857 - val_accuracy: 0.5674\n",
      "Epoch 11/15\n",
      "449/449 [==============================] - 23s 51ms/step - loss: 0.1648 - accuracy: 0.7731 - val_loss: 0.3044 - val_accuracy: 0.5671\n",
      "Epoch 12/15\n",
      "449/449 [==============================] - 24s 53ms/step - loss: 0.1412 - accuracy: 0.8185 - val_loss: 0.3200 - val_accuracy: 0.5666\n",
      "Epoch 13/15\n",
      "449/449 [==============================] - 22s 49ms/step - loss: 0.1192 - accuracy: 0.8572 - val_loss: 0.3451 - val_accuracy: 0.5692\n",
      "Epoch 14/15\n",
      "449/449 [==============================] - 23s 51ms/step - loss: 0.0962 - accuracy: 0.8957 - val_loss: 0.3722 - val_accuracy: 0.5761\n",
      "Epoch 15/15\n",
      "449/449 [==============================] - 22s 49ms/step - loss: 0.0757 - accuracy: 0.9256 - val_loss: 0.4215 - val_accuracy: 0.5745\n"
     ]
    }
   ],
   "source": [
    "model = create_model()\n",
    "\n",
    "# Train the model\n",
    "history = model.fit(train_generator,\n",
    "                    epochs=15,\n",
    "                    verbose=1,\n",
    "                    validation_data=validation_generator)"
   ]
  },
  {
   "cell_type": "code",
   "execution_count": 26,
   "metadata": {},
   "outputs": [
    {
     "data": {
      "image/png": "[encoded data removed]",
      "text/plain": [
       "<Figure size 432x288 with 1 Axes>"
      ]
     },
     "metadata": {
      "needs_background": "light"
     },
     "output_type": "display_data"
    },
    {
     "name": "stdout",
     "output_type": "stream",
     "text": [
      "\n"
     ]
    },
    {
     "data": {
      "image/png": "[encoded data removed]",
      "text/plain": [
       "<Figure size 432x288 with 1 Axes>"
      ]
     },
     "metadata": {
      "needs_background": "light"
     },
     "output_type": "display_data"
    }
   ],
   "source": [
    "acc=history.history['accuracy']\n",
    "val_acc=history.history['val_accuracy']\n",
    "loss=history.history['loss']\n",
    "val_loss=history.history['val_loss']\n",
    "\n",
    "epochs=range(len(acc)) # Get number of epochs\n",
    "\n",
    "plt.plot(epochs, acc, 'r', \"Training Accuracy\")\n",
    "plt.plot(epochs, val_acc, 'b', \"Validation Accuracy\")\n",
    "plt.title('Training and validation accuracy')\n",
    "plt.show()\n",
    "print(\"\")\n",
    "\n",
    "plt.plot(epochs, loss, 'r', \"Training Loss\")\n",
    "plt.plot(epochs, val_loss, 'b', \"Validation Loss\")\n",
    "plt.title('Training and validation loss')\n",
    "plt.show()"
   ]
  },
  {
   "cell_type": "code",
   "execution_count": null,
   "metadata": {},
   "outputs": [],
   "source": []
  },
  {
   "cell_type": "code",
   "execution_count": null,
   "metadata": {},
   "outputs": [],
   "source": []
  },
  {
   "cell_type": "code",
   "execution_count": null,
   "metadata": {},
   "outputs": [],
   "source": []
  }
 ],
 "metadata": {
  "kernelspec": {
   "display_name": "Python 3.7.4 ('base')",
   "language": "python",
   "name": "python3"
  },
  "language_info": {
   "codemirror_mode": {
    "name": "ipython",
    "version": 3
   },
   "file_extension": ".py",
   "mimetype": "text/x-python",
   "name": "python",
   "nbconvert_exporter": "python",
   "pygments_lexer": "ipython3",
   "version": "3.7.4"
  },
  "orig_nbformat": 4,
  "vscode": {
   "interpreter": {
    "hash": "cc8ec5a4a564fb5001075d1b69bd0fab6e4c7967725783b97451713cbf5ce9b7"
   }
  }
 },
 "nbformat": 4,
 "nbformat_minor": 2
}
